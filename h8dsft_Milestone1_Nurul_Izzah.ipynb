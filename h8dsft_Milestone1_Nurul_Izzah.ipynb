{
  "nbformat": 4,
  "nbformat_minor": 0,
  "metadata": {
    "colab": {
      "private_outputs": true,
      "provenance": []
    },
    "kernelspec": {
      "name": "python3",
      "display_name": "Python 3"
    },
    "language_info": {
      "name": "python"
    }
  },
  "cells": [
    {
      "cell_type": "markdown",
      "source": [
        "# I. Introduction\n",
        "\n",
        "Saya Nurul Izzah dari hacktiv8 batch 017, saya membuat laporan ini bertujuan untuk menyelesaikan Milestone1. ini adalah dataset milik toko roti di kota Prancis. Dataset ini menyediakan detail transaksi harian pelanggan dari 2021-01-01 hingga 2022-09-30."
      ],
      "metadata": {
        "id": "wkN5gWowxBy9"
      }
    },
    {
      "cell_type": "markdown",
      "source": [
        "# II. Problem Identification\n",
        "\n",
        "Banyak sekali makanan-makanan yang terkenal di negara perancis, salah satunya adalah bakery. data ini berisi tentang french daily bakery sales untuk mengetahui tentang :\n",
        "\n",
        "- Produk apa dengan penjualan tertinggi?\n",
        "- Di jam2 berapa produk banyak terjual?\n",
        "- Di bulan apa terjadinya penurunan minat pembelian?\n",
        "- Kapan terjadinya peningkatan minat pembeli bakery?\n",
        "- Bagaimana tingkat pembelian produk berdasarkan bulan di tahun 2021-2022?\n",
        "\n",
        "saya akan mencantumkan visualisasi data, statistik deskriptif, dan statistik inferensial dari problem statment yg telah dibuat."
      ],
      "metadata": {
        "id": "jp7s3BUzzqPo"
      }
    },
    {
      "cell_type": "markdown",
      "source": [
        "# III. Data Loading"
      ],
      "metadata": {
        "id": "kzy5mU9Az9uU"
      }
    },
    {
      "cell_type": "code",
      "execution_count": null,
      "metadata": {
        "id": "A4dTnOFR_Xq8"
      },
      "outputs": [],
      "source": [
        "!pip install google-cloud-bigquery # installasi untuk connect ke google bigquery\n",
        "# menghubungkan ke big query\n",
        "from google.cloud import bigquery"
      ]
    },
    {
      "cell_type": "code",
      "source": [
        "#login dan mengautentikasi akun bigquery\n",
        "from google.colab import auth\n",
        "auth.authenticate_user()\n",
        "print('Authenticated')\n",
        "\n",
        "project_id = \"dataset-371710\"\n",
        "client = bigquery.Client(project=project_id)"
      ],
      "metadata": {
        "id": "KqNSbyIXJgXL"
      },
      "execution_count": null,
      "outputs": []
    },
    {
      "cell_type": "code",
      "source": [
        "client.query('''\n",
        "SELECT *\n",
        "FROM `dataset-371710.bakery_sales.french_bakery_sales` # melihat dataset distribution_centers\n",
        "''').to_dataframe()"
      ],
      "metadata": {
        "id": "AyM6XRZ5Jnlw"
      },
      "execution_count": null,
      "outputs": []
    },
    {
      "cell_type": "markdown",
      "source": [
        "# Data Cleaning"
      ],
      "metadata": {
        "id": "FZ-Pos-Amc67"
      }
    },
    {
      "cell_type": "code",
      "source": [
        "#import library\n",
        "import pandas as pd\n",
        "import numpy as np\n",
        "import matplotlib.pyplot as plt\n",
        "import scipy.stats as stats\n",
        "import seaborn as sns\n",
        "%matplotlib inline"
      ],
      "metadata": {
        "id": "FOVAn0kns-Ub"
      },
      "execution_count": null,
      "outputs": []
    },
    {
      "cell_type": "code",
      "source": [
        "# melihat data\n",
        "df = client.query('''\n",
        "SELECT *\n",
        "FROM `dataset-371710.bakery_sales.french_bakery_sales`\n",
        "''').to_dataframe()"
      ],
      "metadata": {
        "id": "lf_N4O58mfZL"
      },
      "execution_count": null,
      "outputs": []
    },
    {
      "cell_type": "code",
      "source": [
        "df"
      ],
      "metadata": {
        "id": "5HviKfFImtYb"
      },
      "execution_count": null,
      "outputs": []
    },
    {
      "cell_type": "code",
      "source": [
        "df.drop('int64_field_0', axis=1,inplace=True) # menhapus kolom yg tidak digunakan"
      ],
      "metadata": {
        "id": "XJSOAAzlmuGZ"
      },
      "execution_count": null,
      "outputs": []
    },
    {
      "cell_type": "code",
      "source": [
        "df['product_list'].value_counts() # meligar jumlah value di kolom product_list"
      ],
      "metadata": {
        "id": "DXB6rMtNmy5v"
      },
      "execution_count": null,
      "outputs": []
    },
    {
      "cell_type": "code",
      "source": [
        "df # membuka data"
      ],
      "metadata": {
        "id": "y3WzzWgPm3kk"
      },
      "execution_count": null,
      "outputs": []
    },
    {
      "cell_type": "code",
      "source": [
        "df.info() # melihat informasi ti[e data]"
      ],
      "metadata": {
        "id": "A0PKcEqim55X"
      },
      "execution_count": null,
      "outputs": []
    },
    {
      "cell_type": "code",
      "source": [
        "df.loc[df['Quantity']<0] # melihat data yg minus"
      ],
      "metadata": {
        "id": "y_b6GCrgm8rd"
      },
      "execution_count": null,
      "outputs": []
    },
    {
      "cell_type": "code",
      "source": [
        "len(df.loc[df['unit_price']<0]) # melihat data yg minus"
      ],
      "metadata": {
        "id": "YwJOACSIm9bT"
      },
      "execution_count": null,
      "outputs": []
    },
    {
      "cell_type": "code",
      "source": [
        "df['Quantity'] = df['Quantity'].abs() # mengembalikan nilai absolut"
      ],
      "metadata": {
        "id": "IqOBTtlJnIKr"
      },
      "execution_count": null,
      "outputs": []
    },
    {
      "cell_type": "code",
      "source": [
        "df.loc[df['Quantity']<0] # melihat data kurang dari 0"
      ],
      "metadata": {
        "id": "j52zzVeonMaa"
      },
      "execution_count": null,
      "outputs": []
    },
    {
      "cell_type": "code",
      "source": [
        "df['ticket_number'] = df['ticket_number'].astype(int) # mengganti tipe data"
      ],
      "metadata": {
        "id": "VK5NzUuLnOn1"
      },
      "execution_count": null,
      "outputs": []
    },
    {
      "cell_type": "code",
      "source": [
        "df['Quantity'] = df['Quantity'].astype(int) # mengganti tipe data"
      ],
      "metadata": {
        "id": "5-iTE8yfjtY9"
      },
      "execution_count": null,
      "outputs": []
    },
    {
      "cell_type": "code",
      "source": [
        "df # melihat data"
      ],
      "metadata": {
        "id": "U_0MdDwnj0o0"
      },
      "execution_count": null,
      "outputs": []
    },
    {
      "cell_type": "code",
      "source": [
        "df['product_list'].unique() # melihat data yg unik/ nama yg tidak sama"
      ],
      "metadata": {
        "id": "1LhsLlu1nRMj"
      },
      "execution_count": null,
      "outputs": []
    },
    {
      "cell_type": "code",
      "source": [
        "len(df.loc[df['product_list']=='.']) # melihat data ."
      ],
      "metadata": {
        "id": "Vh5LApyKnUTR"
      },
      "execution_count": null,
      "outputs": []
    },
    {
      "cell_type": "code",
      "source": [
        "df.drop(df[df.product_list =='.'].index, inplace=True) # menghapus data ."
      ],
      "metadata": {
        "id": "WJo2-tQ2r3ga"
      },
      "execution_count": null,
      "outputs": []
    },
    {
      "cell_type": "markdown",
      "source": [
        "# V. Analisis dan Perhitungan"
      ],
      "metadata": {
        "id": "MHiLOUdghycG"
      }
    },
    {
      "cell_type": "code",
      "source": [
        "df.head() # melihat 5 data teratas"
      ],
      "metadata": {
        "id": "uwGTznDosAc_"
      },
      "execution_count": null,
      "outputs": []
    },
    {
      "cell_type": "code",
      "source": [
        "df['price'] = df['Quantity'] * df['unit_price'] # mengkalikan data"
      ],
      "metadata": {
        "id": "IXoOx7desg4P"
      },
      "execution_count": null,
      "outputs": []
    },
    {
      "cell_type": "code",
      "source": [
        "df.head() # melihat 5 data teratas"
      ],
      "metadata": {
        "id": "_W3DDLUMsrds"
      },
      "execution_count": null,
      "outputs": []
    },
    {
      "cell_type": "code",
      "source": [
        "len(df.loc[df['product_list']=='THE']) # melihat data THE"
      ],
      "metadata": {
        "id": "_R2C0sPltYMo"
      },
      "execution_count": null,
      "outputs": []
    },
    {
      "cell_type": "code",
      "source": [
        "df.describe() # melihat statistik daskriptif data"
      ],
      "metadata": {
        "id": "STt0LskP5PvW"
      },
      "execution_count": null,
      "outputs": []
    },
    {
      "cell_type": "markdown",
      "source": [
        "#Produk dengan penjualan tertinggi"
      ],
      "metadata": {
        "id": "dJ8CUY_Yszun"
      }
    },
    {
      "cell_type": "code",
      "source": [
        "fig = plt.figure(figsize=(20, 12))\n",
        "\n",
        "df['product_list'].value_counts(sort = True, ascending = False).head(10).plot(kind = 'bar',y='Product List',x='Sales', fontsize=18)\n",
        "plt.grid(True)\n",
        "fig.suptitle('PRODUCT TOTAL SALE', fontsize=20)\n",
        "plt.ylabel('Sales', fontsize =18)\n",
        "plt.xlabel('Product List', fontsize =18)"
      ],
      "metadata": {
        "id": "KxbMlfdbst5l"
      },
      "execution_count": null,
      "outputs": []
    },
    {
      "cell_type": "markdown",
      "source": [
        "Dari data diatas dapat disimpulkan produk dengan penjualan tertinggi adalah Traditional Baguette.\n",
        "\n",
        "\n"
      ],
      "metadata": {
        "id": "vIJdepIpuLqj"
      }
    },
    {
      "cell_type": "markdown",
      "source": [
        "#Di jam-jam berapa produk banyak terjual?\n"
      ],
      "metadata": {
        "id": "r7HKMsqAuK9v"
      }
    },
    {
      "cell_type": "code",
      "source": [
        "df_hour = df.copy() # mencopy dataset"
      ],
      "metadata": {
        "id": "L1YDL9R8uk45"
      },
      "execution_count": null,
      "outputs": []
    },
    {
      "cell_type": "code",
      "source": [
        "df_hour.head() # melihat data set yg telah di copy"
      ],
      "metadata": {
        "id": "yRfQRhTqupxs"
      },
      "execution_count": null,
      "outputs": []
    },
    {
      "cell_type": "code",
      "source": [
        "df['date'].agg(['min','max']) # mengaggregasi"
      ],
      "metadata": {
        "id": "Z9vmyxsdurqR"
      },
      "execution_count": null,
      "outputs": []
    },
    {
      "cell_type": "code",
      "source": [
        "df_hour['hour'] = pd.to_datetime(df['timehours'], format='%H:%M').dt.round('H').dt.hour"
      ],
      "metadata": {
        "id": "gA_IQBM4uuwP"
      },
      "execution_count": null,
      "outputs": []
    },
    {
      "cell_type": "code",
      "source": [
        "df_hour"
      ],
      "metadata": {
        "id": "72My_VW_vA-X"
      },
      "execution_count": null,
      "outputs": []
    },
    {
      "cell_type": "code",
      "source": [],
      "metadata": {
        "id": "Kl1PERtAzSd4"
      },
      "execution_count": null,
      "outputs": []
    },
    {
      "cell_type": "code",
      "source": [
        "df_hour.to_csv('clear_data2.csv', index=False)"
      ],
      "metadata": {
        "id": "6RI79AkZxy5I"
      },
      "execution_count": null,
      "outputs": []
    },
    {
      "cell_type": "code",
      "source": [
        "fig = plt.figure(figsize=(50, 12))\n",
        "\n",
        "df_hour['hour'].value_counts(sort = True, ascending = False).head(10).plot(kind = 'pie',autopct='%.1f%%',fontsize=18)\n",
        "plt.grid(True)\n",
        "fig.suptitle('ARTICLE TOTAL SALE per HOUR', fontsize=20)\n",
        "plt.xlabel('Hour', fontsize =18)"
      ],
      "metadata": {
        "id": "J9COhJ10vF6e"
      },
      "execution_count": null,
      "outputs": []
    },
    {
      "cell_type": "markdown",
      "source": [
        "dari ata di atas, dapat disimpulkan produk terjual paling banyak terjadi di jam 9,10,11,12"
      ],
      "metadata": {
        "id": "6ZnHKuFOvRBj"
      }
    },
    {
      "cell_type": "markdown",
      "source": [
        "#Bagaimana tingkat pembelian produk berdasarkan bulan di tahun 2021-2022?"
      ],
      "metadata": {
        "id": "5bqEfkNZvhDV"
      }
    },
    {
      "cell_type": "code",
      "source": [
        "df_month = df.copy() # mengcopy dataset"
      ],
      "metadata": {
        "id": "kkiY9Zz9vOx6"
      },
      "execution_count": null,
      "outputs": []
    },
    {
      "cell_type": "code",
      "source": [
        "df_month['month'] = df['date'].astype(str).str[0:7] # mengganti tipe data"
      ],
      "metadata": {
        "id": "k0JTBWlxwGwK"
      },
      "execution_count": null,
      "outputs": []
    },
    {
      "cell_type": "code",
      "source": [
        "df_month.drop(['ticket_number','unit_price'], axis=1, inplace=True) # menghapus kolom"
      ],
      "metadata": {
        "id": "5o07pjukwJyn"
      },
      "execution_count": null,
      "outputs": []
    },
    {
      "cell_type": "code",
      "source": [
        "sales_per_month = df_month.groupby(['month']).sum() # menggabungkan data dan dijumlah"
      ],
      "metadata": {
        "id": "cQn3izGawNz5"
      },
      "execution_count": null,
      "outputs": []
    },
    {
      "cell_type": "code",
      "source": [
        "sales_per_month # melihat dataset"
      ],
      "metadata": {
        "id": "5N1fvsmAwP_2"
      },
      "execution_count": null,
      "outputs": []
    },
    {
      "cell_type": "code",
      "source": [
        "sales_per_month.plot(kind='line',figsize=(15, 10))\n",
        "plt.grid(True)\n",
        "plt.xlabel('Year-Month', fontsize =18)"
      ],
      "metadata": {
        "id": "ltOOdsCTwQCZ"
      },
      "execution_count": null,
      "outputs": []
    },
    {
      "cell_type": "markdown",
      "source": [
        "dari data diatas dapat disimpulkan bahkan di penjualan meningkat pada bulan september 2021 dan 2022"
      ],
      "metadata": {
        "id": "11KpzdrRwYUw"
      }
    },
    {
      "cell_type": "code",
      "source": [
        "df # melihat dataset"
      ],
      "metadata": {
        "id": "EtG2Qhwd3s_i"
      },
      "execution_count": null,
      "outputs": []
    },
    {
      "cell_type": "markdown",
      "source": [
        "#Cek outlier menggunakan boxplot"
      ],
      "metadata": {
        "id": "5qsCW-7eDgGB"
      }
    },
    {
      "cell_type": "code",
      "source": [
        "df_tb = df.loc[df['product_list'] == 'TRADITIONAL BAGUETTE'] # untuk mengakses data"
      ],
      "metadata": {
        "id": "0fIj14ooC51b"
      },
      "execution_count": null,
      "outputs": []
    },
    {
      "cell_type": "code",
      "source": [
        "df_tb # melihat data set"
      ],
      "metadata": {
        "id": "wwjVHbWB5pEJ"
      },
      "execution_count": null,
      "outputs": []
    },
    {
      "cell_type": "code",
      "source": [
        "figure=df_tb.boxplot(column='Quantity') # untuk membuat plot"
      ],
      "metadata": {
        "id": "mi9RvwZM55m8"
      },
      "execution_count": null,
      "outputs": []
    },
    {
      "cell_type": "markdown",
      "source": [
        "dari visualisasi di atas, ada banyak outlier"
      ],
      "metadata": {
        "id": "mMehgsdOCpXX"
      }
    },
    {
      "cell_type": "code",
      "source": [
        "IQR= df['Quantity'].quantile(0.75) - df['Quantity'].quantile(0.25)\n",
        "IQR #mengukur Rentang interkuartil untuk mengukur batas-batas outlier"
      ],
      "metadata": {
        "id": "2YH8eNB16IX6"
      },
      "execution_count": null,
      "outputs": []
    },
    {
      "cell_type": "code",
      "source": [
        "lower_bridge= df_tb['Quantity'].quantile(0.25)-(IQR*1.5)  #mengukur Rentang interkuartil untuk mengukur batas-batas outlier\n",
        "upper_bridge= df_tb['Quantity'].quantile(0.75)+(IQR*1.5)\n",
        "print(lower_bridge), print(upper_bridge) "
      ],
      "metadata": {
        "id": "j5_Ohc3i6K_j"
      },
      "execution_count": null,
      "outputs": []
    },
    {
      "cell_type": "code",
      "source": [
        "df_tb['Quantity'].describe() # menghitung statistik deskriptif"
      ],
      "metadata": {
        "id": "c8a0Rb9Q6Qed"
      },
      "execution_count": null,
      "outputs": []
    },
    {
      "cell_type": "code",
      "source": [
        "df_tb[df_tb['Quantity'] > upper_bridge] # mengelompokan data"
      ],
      "metadata": {
        "id": "bVARwNhu6jdY"
      },
      "execution_count": null,
      "outputs": []
    },
    {
      "cell_type": "code",
      "source": [
        "n_outlier = len(df_tb[df_tb['Quantity'] > upper_bridge]) # mengelompokan data"
      ],
      "metadata": {
        "id": "_YnshYDmEOCU"
      },
      "execution_count": null,
      "outputs": []
    },
    {
      "cell_type": "code",
      "source": [
        "mean_df_tb = df_tb['Quantity'].mean() # menghitung nilai rata-rata"
      ],
      "metadata": {
        "id": "wgmjGFeGEVgQ"
      },
      "execution_count": null,
      "outputs": []
    },
    {
      "cell_type": "code",
      "source": [
        "mean_df_tb # menampilkan nilai rata-rata"
      ],
      "metadata": {
        "id": "zKxjKXzBEcjt"
      },
      "execution_count": null,
      "outputs": []
    },
    {
      "cell_type": "code",
      "source": [
        "df_tb.loc[df_tb['Quantity']>upper_bridge,'Quantity'] = mean_df_tb #  untuk mengakses single data"
      ],
      "metadata": {
        "id": "ZHybUs0JEf31"
      },
      "execution_count": null,
      "outputs": []
    },
    {
      "cell_type": "code",
      "source": [
        "df_tb # menampilkan data"
      ],
      "metadata": {
        "id": "XjyoT3oUEo8q"
      },
      "execution_count": null,
      "outputs": []
    },
    {
      "cell_type": "code",
      "source": [
        "figure=df_tb.boxplot(column='Quantity') # membuat plot"
      ],
      "metadata": {
        "id": "6I3TU2tpEsVO"
      },
      "execution_count": null,
      "outputs": []
    },
    {
      "cell_type": "code",
      "source": [
        "(n_outlier/len(df_tb))*100 # persentasi outlier"
      ],
      "metadata": {
        "id": "KXwEvNrMEzcz"
      },
      "execution_count": null,
      "outputs": []
    },
    {
      "cell_type": "code",
      "source": [
        "df_tb.describe() # melihat statistik deskriptif"
      ],
      "metadata": {
        "id": "m2zPpEffE6uC"
      },
      "execution_count": null,
      "outputs": []
    },
    {
      "cell_type": "markdown",
      "source": [
        "memilih mencari outlier menggunakan product list traditional baguagette karena merupakan produk yg paling banyak dibeli"
      ],
      "metadata": {
        "id": "PlZii7IymHoE"
      }
    },
    {
      "cell_type": "markdown",
      "source": [
        "#Measure of Variance"
      ],
      "metadata": {
        "id": "flu0ghHMcrmq"
      }
    },
    {
      "cell_type": "code",
      "source": [
        "df_tb['Quantity'].mean() # menghitung nilai rata-rata"
      ],
      "metadata": {
        "id": "ZEapOrTtcBsr"
      },
      "execution_count": null,
      "outputs": []
    },
    {
      "cell_type": "code",
      "source": [
        "df_tb['Quantity'].var() # menghitung nilai varian"
      ],
      "metadata": {
        "id": "KDIBiuJrcLfP"
      },
      "execution_count": null,
      "outputs": []
    },
    {
      "cell_type": "code",
      "source": [
        "df_tb['Quantity'].std() # menghitung standar deviasi"
      ],
      "metadata": {
        "id": "xgv-rwuacLl9"
      },
      "execution_count": null,
      "outputs": []
    },
    {
      "cell_type": "code",
      "source": [
        "df_tb['Quantity'].max() # menampilkan nilai maksimal"
      ],
      "metadata": {
        "id": "H4vDFBq_cMAr"
      },
      "execution_count": null,
      "outputs": []
    },
    {
      "cell_type": "code",
      "source": [
        "df_tb['Quantity'].min() # menampilkan nilai minimal"
      ],
      "metadata": {
        "id": "57pNPg-jcil9"
      },
      "execution_count": null,
      "outputs": []
    },
    {
      "cell_type": "markdown",
      "source": [
        "- Nilai rata-ratanya berdasarkan Quantity = 1.5361\n",
        "\n",
        "- Nilai variannya berdasarkan Quantity = 0.4214\n",
        "Varian adalah ukuran dispersi data yang menunjukkan seberapa jauh nilai-nilai dalam sekumpulan data tersebar dari nilai rata-ratanya\n",
        "\n",
        "- Nilai deviasainya berdasarkan Quantity = 0.6491\n",
        "Standar deviasi adalah dispersi data yang menunjukkan seberapa jauh nilai-nilai dalam sekumpulan data tersebar dari nilai rata-ratanya\n",
        "\n",
        "- Nilai maksimalnya berdasarkan Quantity = 3.0\n",
        "\n",
        "- Nilai minimalnya berdasarkan Quantity = 1.0"
      ],
      "metadata": {
        "id": "0Vik8wi4_SLV"
      }
    },
    {
      "cell_type": "markdown",
      "source": [
        "#kapan terjadinya peningkatan minat pembeli bakery?"
      ],
      "metadata": {
        "id": "aR_BxFf-nJHO"
      }
    },
    {
      "cell_type": "code",
      "source": [
        "sales_per_month.max()"
      ],
      "metadata": {
        "id": "nW5v59i9E9fG"
      },
      "execution_count": null,
      "outputs": []
    },
    {
      "cell_type": "code",
      "source": [
        "sales_per_month"
      ],
      "metadata": {
        "id": "zEJw2IZsnj0D"
      },
      "execution_count": null,
      "outputs": []
    },
    {
      "cell_type": "markdown",
      "source": [
        "pembelian paling banyak tejadi di bulan agustus 2021"
      ],
      "metadata": {
        "id": "mnyJ-kp_oC5S"
      }
    },
    {
      "cell_type": "markdown",
      "source": [
        "#Resampling"
      ],
      "metadata": {
        "id": "1G32PVilAveV"
      }
    },
    {
      "cell_type": "code",
      "source": [
        "product_list = df.copy()"
      ],
      "metadata": {
        "id": "YsifDKbfF6sn"
      },
      "execution_count": null,
      "outputs": []
    },
    {
      "cell_type": "code",
      "source": [
        "product_list"
      ],
      "metadata": {
        "id": "ziR8q9pOGQWU"
      },
      "execution_count": null,
      "outputs": []
    },
    {
      "cell_type": "code",
      "source": [
        "product_list.drop(['ticket_number'], axis=1, inplace=True)"
      ],
      "metadata": {
        "id": "S259ECHTHLYx"
      },
      "execution_count": null,
      "outputs": []
    },
    {
      "cell_type": "code",
      "source": [
        "#product_list.drop(['price'], axis=1, inplace=True)"
      ],
      "metadata": {
        "id": "zq6Uy9klBCG4"
      },
      "execution_count": null,
      "outputs": []
    },
    {
      "cell_type": "code",
      "source": [
        "product_list"
      ],
      "metadata": {
        "id": "EXGCtjCariie"
      },
      "execution_count": null,
      "outputs": []
    },
    {
      "cell_type": "code",
      "source": [
        "sns.displot(product_list.price.sample(6000), kde=True, label='Product sales per quantity')"
      ],
      "metadata": {
        "id": "RJjMf93lFPfr"
      },
      "execution_count": null,
      "outputs": []
    },
    {
      "cell_type": "code",
      "source": [
        "fig,ax = plt.subplots(ncols=4, figsize = (18,4))\n",
        "for i in range(4):\n",
        "  product_list.price.sample(400).plot(kind='hist',bins=20,ax=ax[i])\n",
        "  ax[i].set_title('Sample #{}'.format(i+1))"
      ],
      "metadata": {
        "id": "ApBg9BYeIpZG"
      },
      "execution_count": null,
      "outputs": []
    },
    {
      "cell_type": "markdown",
      "source": [
        "Berdasarkan data yg telah di resampling dengan menggunakan jumlah sampling yg besar dan menggunakan jumlah sampling yg lebih kecil yg berjumlah 200 sebnayak 4x dapat dilihat bahwa disturbusi datanya mirip di mana distribusi data harga/price terbanyak berada di range 0 hingga 4. Dapat dikatakan bahwa bentuk distribusi data harga/price adalah positive long tail skewed"
      ],
      "metadata": {
        "id": "LlZLXgEEthsL"
      }
    },
    {
      "cell_type": "markdown",
      "source": [
        "Link dashboard : https://datastudio.google.com/reporting/a28a7bcf-5d9a-4de5-a628-4d91d727c262"
      ],
      "metadata": {
        "id": "nrS4KxqGowTT"
      }
    },
    {
      "cell_type": "markdown",
      "source": [
        "#VI. Pengambilan Kesimpulan"
      ],
      "metadata": {
        "id": "AIas1Xzto4m8"
      }
    },
    {
      "cell_type": "markdown",
      "source": [
        "Dalam analisis kali ini saya menggunakan 5W1H yaitu \n",
        "\n",
        "- Produk apa dengan penjualan tertinggi?\n",
        "produk dengan penjualan tertinggi adalah traditional baguette\n",
        "\n",
        "- Di jam2 berapa produk banyak terjual?\n",
        "sesuai dengan data yg dibuat di dashboard dan notebook, banyak pembelian di jam siang antara jam 10,11, dan 12 siang\n",
        "\n",
        "- Di bulan apa terjadinya penurunan minat pembelian?\n",
        "penurunan terjadi di bulan januari 2022\n",
        "\n",
        "- Kapan terjadinya peningkatan minat pembeli bakery?\n",
        "terjadi peningkatan penjualan pada bulan agustus 2021\n",
        "\n",
        "- Bagaimana tingkat pembelian produk berdasarkan bulan di tahun 2021-2022?\n",
        "dari analis di notebook, dapat disimpulkan bahkan di penjualan meningkat pada bulan september 2021 dan 2022\n",
        "\n",
        "setelah menganalisis bisa disimpulkan diperlukan promosi agar menaikan insight perusahaan karena perusahaan banyak mengalami penurunan."
      ],
      "metadata": {
        "id": "5ZrlxHh2qUTv"
      }
    }
  ]
}